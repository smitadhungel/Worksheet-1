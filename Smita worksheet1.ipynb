{
  "nbformat": 4,
  "nbformat_minor": 0,
  "metadata": {
    "colab": {
      "provenance": []
    },
    "kernelspec": {
      "name": "python3",
      "display_name": "Python 3"
    },
    "language_info": {
      "name": "python"
    }
  },
  "cells": [
    {
      "cell_type": "code",
      "source": [
        "#ARRAY CREATION"
      ],
      "metadata": {
        "id": "2rYquzMSk5nP"
      },
      "execution_count": null,
      "outputs": []
    },
    {
      "cell_type": "code",
      "source": [
        "#1.\tInitialize an empty array with size 2X2.\n",
        "#import the NumPy\n",
        "import numpy as np\n",
        "#initialize an empty array with size 2x2\n",
        "empty_array = np.empty((2, 2)) #creates an uninitialized array\n",
        "print(\"Empty Array:\\n\", empty_array)"
      ],
      "metadata": {
        "colab": {
          "base_uri": "https://localhost:8080/"
        },
        "id": "bKleJD7xlihf",
        "outputId": "f90f2bdf-1ec9-4d0e-c9cb-89bbfb62e7df"
      },
      "execution_count": null,
      "outputs": [
        {
          "output_type": "stream",
          "name": "stdout",
          "text": [
            "Empty Array:\n",
            " [[4.65930425e-310 0.00000000e+000]\n",
            " [6.67325236e-310 4.65829977e-310]]\n"
          ]
        }
      ]
    },
    {
      "cell_type": "code",
      "source": [
        "#2.\tInitialize an all one array with size 4X2.\n",
        "#import the Numpy\n",
        "import numpy as np\n",
        "#initialize an all-one array with size 4x2\n",
        "ones_array = np.ones((4, 2)) #creates an array filled with  ones\n",
        "print(\"All-Ones Array:\\n\", ones_array)"
      ],
      "metadata": {
        "colab": {
          "base_uri": "https://localhost:8080/"
        },
        "id": "0rRezua1laym",
        "outputId": "fb2f6c14-9891-4c1e-ccb6-c0dda158acfc"
      },
      "execution_count": null,
      "outputs": [
        {
          "output_type": "stream",
          "name": "stdout",
          "text": [
            "All-Ones Array:\n",
            " [[1. 1.]\n",
            " [1. 1.]\n",
            " [1. 1.]\n",
            " [1. 1.]]\n"
          ]
        }
      ]
    },
    {
      "cell_type": "code",
      "source": [
        "#3.\tReturn a new array of given shape and type, filled with fill value.\n",
        "#import the Numpy\n",
        "import numpy as np\n",
        "#return a new array filled with a specific value\n",
        "filled_array = np.full((3, 3), 7)#creates a 3x3 array filled with 7\n",
        "print(\"Array filled with 7:\\n\", filled_array)"
      ],
      "metadata": {
        "colab": {
          "base_uri": "https://localhost:8080/"
        },
        "id": "Cd522nSvmzin",
        "outputId": "f8da1f2d-36d0-4a4a-a209-ffc3ed9beb82"
      },
      "execution_count": null,
      "outputs": [
        {
          "output_type": "stream",
          "name": "stdout",
          "text": [
            "Array filled with 7:\n",
            " [[7 7 7]\n",
            " [7 7 7]\n",
            " [7 7 7]]\n"
          ]
        }
      ]
    },
    {
      "cell_type": "code",
      "source": [
        "#4.\tReturn a new array of zeros with same shape and type as a given array.\n",
        "#import NumPy\n",
        "import numpy as np\n",
        "#return a new array with the same shape as a given array\n",
        "reference_array = np.array([[1, 2], [3, 4]])\n",
        "zeros_like_array = np.zeros_like(reference_array)#zeros matching reference array's shape\n",
        "print(\"Zero-like Array:\\n\", zeros_like_array)"
      ],
      "metadata": {
        "colab": {
          "base_uri": "https://localhost:8080/"
        },
        "id": "aRRScHo_nh2b",
        "outputId": "967c8654-e128-470a-903c-920e9f094b04"
      },
      "execution_count": null,
      "outputs": [
        {
          "output_type": "stream",
          "name": "stdout",
          "text": [
            "Zero-like Array:\n",
            " [[0 0]\n",
            " [0 0]]\n"
          ]
        }
      ]
    },
    {
      "cell_type": "code",
      "source": [
        "#5.\tReturn a new array of ones with same shape and type as a given array\n",
        "#import NumPy\n",
        "import numpy as np\n",
        "#return a new ones array with the same shape as a given array\n",
        "ones_like_array = np.ones_like(reference_array)#ones matching reference array's shape\n",
        "print(\"Ones_Like Array:\\n\", ones_like_array)\n"
      ],
      "metadata": {
        "colab": {
          "base_uri": "https://localhost:8080/"
        },
        "id": "_SnNZApqosZf",
        "outputId": "60dc92cf-debe-4189-dc50-a55a29d1eb25"
      },
      "execution_count": null,
      "outputs": [
        {
          "output_type": "stream",
          "name": "stdout",
          "text": [
            "Ones_Like Array:\n",
            " [[1 1]\n",
            " [1 1]]\n"
          ]
        }
      ]
    },
    {
      "cell_type": "code",
      "source": [
        "#6.\tFor an existing list new_list = [1,2,3,4] convert to an numpy array.\n",
        "#import NumPY\n",
        "import numpy as np\n",
        "#convert an existing list to a NumPy array\n",
        "new_list = [1, 2, 3, 4]\n",
        "numpy_array = np.array(new_list)#coverts list to NumPy array\n",
        "print(\"Converted NumPy Array:\\n\", numpy_array)"
      ],
      "metadata": {
        "colab": {
          "base_uri": "https://localhost:8080/"
        },
        "id": "iCH9S-WZpp1S",
        "outputId": "22bff139-aca4-429c-b74a-5a04eb3592ec"
      },
      "execution_count": null,
      "outputs": [
        {
          "output_type": "stream",
          "name": "stdout",
          "text": [
            "Converted NumPy Array:\n",
            " [1 2 3 4]\n"
          ]
        }
      ]
    },
    {
      "cell_type": "code",
      "source": [
        "#Array Manipulation: Numerical Ranges and Array indexing\n"
      ],
      "metadata": {
        "id": "RS1zUPOPqZ4X"
      },
      "execution_count": null,
      "outputs": []
    },
    {
      "cell_type": "code",
      "source": [
        "#1.\tCreate an array with values ranging from 10 to 49\n",
        "#import NumPy\n",
        "import numpy as np\n",
        "#create an array with values from 10 to 49\n",
        "#using arrange() to generate numbers in a specific range\n",
        "range_array = np.arange(10, 50)\n",
        "print(\"Range Array:\\n\", range_array)"
      ],
      "metadata": {
        "colab": {
          "base_uri": "https://localhost:8080/"
        },
        "id": "tdQ0F8HtqfLM",
        "outputId": "fc65aace-d164-465a-c4bc-a6a3479bfcc0"
      },
      "execution_count": null,
      "outputs": [
        {
          "output_type": "stream",
          "name": "stdout",
          "text": [
            "Range Array:\n",
            " [10 11 12 13 14 15 16 17 18 19 20 21 22 23 24 25 26 27 28 29 30 31 32 33\n",
            " 34 35 36 37 38 39 40 41 42 43 44 45 46 47 48 49]\n"
          ]
        }
      ]
    },
    {
      "cell_type": "code",
      "source": [
        "# Import NumPy\n",
        "import numpy as np\n",
        "\n",
        "# Task: Create a 3x3 matrix with values ranging from 0 to 8\n",
        "# Generate a sequence of numbers from 0 to 8\n",
        "# Reshape the sequence into a 3x3 matrix\n",
        "try:\n",
        "    matrix_3x3 = np.arange(9).reshape(3, 3)  # Sequential array reshaped into 3x3 matrix\n",
        "    print(\"3x3 Matrix:\\n\", matrix_3x3)\n",
        "except AttributeError as e:\n",
        "    print(\"Error: \", e)\n",
        "    print(\"Make sure NumPy is installed and correctly imported.\")\n",
        "\n",
        "\n",
        "\n",
        "\n"
      ],
      "metadata": {
        "colab": {
          "base_uri": "https://localhost:8080/"
        },
        "id": "xn-cyZFBge-I",
        "outputId": "3b4a472d-1afb-44d4-d4bd-da3698c69294"
      },
      "execution_count": null,
      "outputs": [
        {
          "output_type": "stream",
          "name": "stdout",
          "text": [
            "3x3 Matrix:\n",
            " [[0 1 2]\n",
            " [3 4 5]\n",
            " [6 7 8]]\n"
          ]
        }
      ]
    },
    {
      "cell_type": "code",
      "source": [
        "#3.\tCreate a 3X3 identity matrix\n",
        "#import NumPy\n",
        "import numpy as np\n",
        "#create a 3x3 identity matrix\n",
        "#identify matrix has 1 along the diagnal and 0 elsewhere, created using np.eye()\n",
        "identity_matrix = np.eye(3)\n",
        "print(\"Identity Matrix:\\n\", identity_matrix)\n"
      ],
      "metadata": {
        "colab": {
          "base_uri": "https://localhost:8080/"
        },
        "id": "Lff_0PsIiK1s",
        "outputId": "9d7fd6f3-bea3-4955-e47e-6c9e85540e5a"
      },
      "execution_count": null,
      "outputs": [
        {
          "output_type": "stream",
          "name": "stdout",
          "text": [
            "Identity Matrix:\n",
            " [[1. 0. 0.]\n",
            " [0. 1. 0.]\n",
            " [0. 0. 1.]]\n"
          ]
        }
      ]
    },
    {
      "cell_type": "code",
      "source": [
        "#4.\tCreate a random array of size 30 and find the mean of the array.\n",
        "#import NumPy\n",
        "import numpy as np\n",
        "#generate 30 random numbers between 0 and 1, then calculating their average\n",
        "random_array = np.random.random(30)\n",
        "mean_value = random_array.mean()\n",
        "print(\"Random Array:\\n\", random_array)\n",
        "print(\"Mean of Random Array:, mean_value\")"
      ],
      "metadata": {
        "colab": {
          "base_uri": "https://localhost:8080/"
        },
        "id": "RQ-oQPmZkNvr",
        "outputId": "fd68a2ee-6234-45ad-b0dc-82c8fdc6a156"
      },
      "execution_count": null,
      "outputs": [
        {
          "output_type": "stream",
          "name": "stdout",
          "text": [
            "Random Array:\n",
            " [0.77120289 0.55292218 0.7902192  0.6580902  0.7147284  0.36569745\n",
            " 0.61100084 0.37096434 0.31382765 0.01897936 0.97822839 0.65333975\n",
            " 0.99293861 0.61678947 0.92297218 0.3183052  0.23263243 0.67981077\n",
            " 0.31090194 0.13787024 0.87296268 0.30402395 0.31803095 0.1821014\n",
            " 0.53088736 0.60429654 0.55442624 0.1090643  0.06139113 0.53685946]\n",
            "Mean of Random Array:, mean_value\n"
          ]
        }
      ]
    },
    {
      "cell_type": "code",
      "source": [
        "#5.\tCreate a 10X10 array with random values and find the minimum and maximum values.\n",
        "#import Numpy\n",
        "import numpy as np\n",
        "#np.random.random() generates random numbers; we use min()and max() to find the smallest and largest values\n",
        "large_random_array = np.random.random((10, 10))\n",
        "min_value = large_random_array.min()\n",
        "max_value = large_random_array.max()\n",
        "print(\"Random 10x19 Array:\\n\", large_random_array)\n",
        "print(\"Min Value:\", min_value)\n",
        "print(\"Max Value:\", max_value)\n",
        "\n",
        "\n"
      ],
      "metadata": {
        "colab": {
          "base_uri": "https://localhost:8080/"
        },
        "id": "uGYmgNqylHVb",
        "outputId": "82b921a5-0b80-4c14-f7fc-8d5be3036083"
      },
      "execution_count": null,
      "outputs": [
        {
          "output_type": "stream",
          "name": "stdout",
          "text": [
            "Random 10x19 Array:\n",
            " [[0.85061958 0.05447069 0.44764355 0.3885423  0.22072929 0.89886772\n",
            "  0.05675334 0.25590342 0.94836936 0.49825282]\n",
            " [0.9105992  0.59733796 0.25543933 0.67807202 0.87622557 0.69277968\n",
            "  0.30839889 0.04685578 0.7211368  0.78030741]\n",
            " [0.61487    0.18990434 0.93729005 0.33037821 0.47060494 0.28687407\n",
            "  0.80804083 0.79728004 0.21635589 0.1755344 ]\n",
            " [0.62040595 0.21256939 0.62136893 0.79151023 0.40605575 0.6092062\n",
            "  0.58466989 0.79835677 0.41158838 0.77309185]\n",
            " [0.02912677 0.84434871 0.60446666 0.14477023 0.01339755 0.21693587\n",
            "  0.80407362 0.0025983  0.18352112 0.95975961]\n",
            " [0.16555652 0.00373831 0.84817544 0.05215344 0.22731671 0.2983134\n",
            "  0.20251622 0.6253457  0.56305708 0.32838486]\n",
            " [0.1297056  0.39113172 0.65659719 0.66807136 0.04689108 0.2719553\n",
            "  0.87864348 0.07877734 0.02612975 0.1454151 ]\n",
            " [0.35508658 0.66662828 0.66102363 0.81558791 0.1666244  0.35242977\n",
            "  0.50402403 0.12104249 0.6986735  0.72506789]\n",
            " [0.39731092 0.22851037 0.84542543 0.14490122 0.91255216 0.85443719\n",
            "  0.82836698 0.76365815 0.86192199 0.64633299]\n",
            " [0.71982905 0.3274696  0.79269544 0.66958487 0.3549627  0.92644331\n",
            "  0.0126593  0.73045005 0.99060274 0.97371047]]\n",
            "Min Value: 0.002598303324127915\n",
            "Max Value: 0.9906027399329885\n"
          ]
        }
      ]
    },
    {
      "cell_type": "code",
      "source": [
        "#6.\tCreate a zero array of size 10 and replace 5th element with 1.\n",
        "#import NumPy\n",
        "import numpy as np\n",
        "#create a zero array of size 10 and replace the 5th element with 1\n",
        "#starting with an all-zero array, then modifying the 5th position (index4) to store the value 1\n",
        "zero_array = np.zeros(10)\n",
        "zero_array[4] = 1\n",
        "print(\"Reversed Array:\\n\", zero_array)"
      ],
      "metadata": {
        "colab": {
          "base_uri": "https://localhost:8080/"
        },
        "id": "Mg6xXaypmjlo",
        "outputId": "401df19f-1fb5-4056-d222-098d008a3dc4"
      },
      "execution_count": null,
      "outputs": [
        {
          "output_type": "stream",
          "name": "stdout",
          "text": [
            "Reversed Array:\n",
            " [0. 0. 0. 0. 1. 0. 0. 0. 0. 0.]\n"
          ]
        }
      ]
    },
    {
      "cell_type": "code",
      "source": [
        "#7.\tReverse an array arr = [1,2,0,0,4,0].\n",
        "#import NumPy\n",
        "import numpy as np\n",
        "#using slicing[::-1] to flip the order of elements in an array\n",
        "arr = np.array([1, 2, 0, 0, 4, 0])\n",
        "reversed_array = arr[::-1]\n",
        "print(\"Reversed Array:\\n\", reversed_array)\n"
      ],
      "metadata": {
        "colab": {
          "base_uri": "https://localhost:8080/"
        },
        "id": "GN_MI2DHoES-",
        "outputId": "31ae459d-c8ac-408c-87ce-863fad529236"
      },
      "execution_count": null,
      "outputs": [
        {
          "output_type": "stream",
          "name": "stdout",
          "text": [
            "Reversed Array:\n",
            " [0 4 0 0 2 1]\n"
          ]
        }
      ]
    },
    {
      "cell_type": "code",
      "source": [
        "#8.Create a 2D array with 1 on the border and 0 inside\n",
        "#import NumPy\n",
        "import numpy as np\n",
        "#start with an all-ones array, then overwrite the \"inside\" region with zeros\n",
        "bordered_array = np.ones((5, 5))\n",
        "bordered_array[1:-1, 1:-1] = 0 #Target the inner portion of the 2D array\n",
        "print(\"Bordered Array:\\n\", bordered_array)\n"
      ],
      "metadata": {
        "colab": {
          "base_uri": "https://localhost:8080/"
        },
        "id": "-MCUbszhpg7S",
        "outputId": "6cd0ed87-e824-4b0b-9665-47855345f051"
      },
      "execution_count": null,
      "outputs": [
        {
          "output_type": "stream",
          "name": "stdout",
          "text": [
            "Bordered Array:\n",
            " [[1. 1. 1. 1. 1.]\n",
            " [1. 0. 0. 0. 1.]\n",
            " [1. 0. 0. 0. 1.]\n",
            " [1. 0. 0. 0. 1.]\n",
            " [1. 1. 1. 1. 1.]]\n"
          ]
        }
      ]
    },
    {
      "cell_type": "code",
      "source": [
        "#9.\tCreate a 8X8 matrix and fill it with a checkerboard pattern.\n",
        "#import NumPy\n",
        "import numpy as np\n",
        "# Filling alternate positions with 1s to mimic a chess/checkerboard layout\n",
        "checkerboard = np.zeros((8, 8), dtype=int)  # Initialize with zeros\n",
        "checkerboard[1::2, ::2] = 1  # Fill rows starting from the 2nd with alternating 1s\n",
        "checkerboard[::2, 1::2] = 1  # Fill rows starting from the 1st with alternating 1s\n",
        "print(\"Checkerboard Pattern:\\n\", checkerboard)\n",
        "\n"
      ],
      "metadata": {
        "colab": {
          "base_uri": "https://localhost:8080/"
        },
        "id": "JHZ37JsJqxIX",
        "outputId": "2641de85-42b1-4464-8a6f-032f20f63eb7"
      },
      "execution_count": null,
      "outputs": [
        {
          "output_type": "stream",
          "name": "stdout",
          "text": [
            "Checkerboard Pattern:\n",
            " [[0 1 0 1 0 1 0 1]\n",
            " [1 0 1 0 1 0 1 0]\n",
            " [0 1 0 1 0 1 0 1]\n",
            " [1 0 1 0 1 0 1 0]\n",
            " [0 1 0 1 0 1 0 1]\n",
            " [1 0 1 0 1 0 1 0]\n",
            " [0 1 0 1 0 1 0 1]\n",
            " [1 0 1 0 1 0 1 0]]\n"
          ]
        }
      ]
    },
    {
      "cell_type": "code",
      "source": [
        "#Array Operations"
      ],
      "metadata": {
        "id": "gXHaGtTID5XE"
      },
      "execution_count": null,
      "outputs": []
    },
    {
      "cell_type": "code",
      "source": [
        "from os import waitid_result\n",
        "#Arrays for operation\n",
        "x = np.array([[1, 2], [3, 5]])\n",
        "y = np.array([[5, 6], [7, 8]])\n",
        "v = np.array([9, 10])\n",
        "w = np.array([11, 12])\n",
        "#import NumPy as the np\n",
        "import numpy as np\n",
        "#1. Add two arrays\n",
        "sum_arrays = np.add(x, y)\n",
        "print(\"Sum of Arrays:\\n\", sum_arrays)\n",
        "\n",
        "#2. Subtract two arrays\n",
        "diff_arrays = np.subtract(x, y)\n",
        "print(\"\\nDifference of Arrays:\\n\", diff_arrays)\n",
        "\n",
        "#3. Multiply array with an integer\n",
        "scaled_array = x * 6\n",
        "print(\"\\nScaled Array:\\n\", scaled_array)\n",
        "\n",
        "#4. Square each element\n",
        "squared_array = np.square(x)\n",
        "print(\"\\nSquared Array:\\n\", squared_array)\n",
        "\n",
        "#5. Dot product between various arrays\n",
        "dot_vw = np.dot(v, w)\n",
        "dot_xv = np.dot(x, v)\n",
        "dot_xy = np.dot(x, y)\n",
        "print(\"\\nDot Product (v.w):\\n\", dot_vw)\n",
        "print(\"\\nDot Product (x.v):\\n\", dot_xv)\n",
        "print(\"\\nDot Product (x.y):\\n\", dot_xy)\n",
        "\n",
        "#6. Concatenate x and y along rows; v and w along columns\n",
        "concat_xy_rows = np.concatenate((x, y), axis=0)\n",
        "concat_vw_cols = np.column_stack((v, w))\n",
        "print(\"\\nConcatenated x and y along rows:\\n\", concat_xy_rows)\n",
        "print(\"\\nConcatenated v and w along columns:\\n\", concat_vw_cols)\n",
        "\n",
        "#7. Concatenate x and v; explain error\n",
        "try:\n",
        "  concat_xv = np.concatenate((x, v), axis=0)\n",
        "  print(\"Concatenated x and v:\\n\", concat_xv)\n",
        "except ValueError as e:\n",
        "  print(\"\\nError:\", e)\n",
        "  print(\"\\nExplanation: Arrays x and v have incompatible shapes for concatenation\")\n"
      ],
      "metadata": {
        "colab": {
          "base_uri": "https://localhost:8080/"
        },
        "id": "C5eWbA99EDZ7",
        "outputId": "468808ad-b7e4-4738-df2f-33244305bbed"
      },
      "execution_count": null,
      "outputs": [
        {
          "output_type": "stream",
          "name": "stdout",
          "text": [
            "Sum of Arrays:\n",
            " [[ 6  8]\n",
            " [10 13]]\n",
            "\n",
            "Difference of Arrays:\n",
            " [[-4 -4]\n",
            " [-4 -3]]\n",
            "\n",
            "Scaled Array:\n",
            " [[ 6 12]\n",
            " [18 30]]\n",
            "\n",
            "Squared Array:\n",
            " [[ 1  4]\n",
            " [ 9 25]]\n",
            "\n",
            "Dot Product (v.w):\n",
            " 219\n",
            "\n",
            "Dot Product (x.v):\n",
            " [29 77]\n",
            "\n",
            "Dot Product (x.y):\n",
            " [[19 22]\n",
            " [50 58]]\n",
            "\n",
            "Concatenated x and y along rows:\n",
            " [[1 2]\n",
            " [3 5]\n",
            " [5 6]\n",
            " [7 8]]\n",
            "\n",
            "Concatenated v and w along columns:\n",
            " [[ 9 11]\n",
            " [10 12]]\n",
            "\n",
            "Error: all the input arrays must have same number of dimensions, but the array at index 0 has 2 dimension(s) and the array at index 1 has 1 dimension(s)\n",
            "\n",
            "Explanation: Arrays x and v have incompatible shapes for concatenation\n"
          ]
        }
      ]
    },
    {
      "cell_type": "code",
      "source": [
        "#Matrix Operations"
      ],
      "metadata": {
        "id": "Ddkl5V3DTorL"
      },
      "execution_count": null,
      "outputs": []
    },
    {
      "cell_type": "code",
      "source": [
        "import numpy as np\n",
        "#Matrices for operations\n",
        "A = np.array([[3, 4], [7, 8]])\n",
        "B = np.array([[5, 3], [2, 1]])\n",
        "\n",
        "#1. Prove A.A^-1 = I\n",
        "A_inv = np.linalg.inv(A)\n",
        "identity = np.dot(A, A_inv)\n",
        "print(\"A * A^-1:\\n\", identity)\n",
        "\n",
        "#2. Prove AB ≠ BA\n",
        "AB = np.dot(A, B)\n",
        "BA = np.dot(B, A)\n",
        "print(\"\\nA * B:\\n\", AB)\n",
        "print(\"\\nB * A:\\n\", BA)\n",
        "print(\"AB equals BA:\", np.array_equal(AB, BA))\n",
        "\n",
        "#3. Prove (AB)^T = B^T * A^T\n",
        "AB_T = np.transpose(AB)\n",
        "BT_AT = np.dot(np.transpose(B), np.transpose(A))\n",
        "print(\"\\n(AB)^T:\\n\", AB_T)\n",
        "print(\"\\nB^T * A^T:\\n\", BT_AT)\n",
        "\n",
        "\n",
        "\n",
        "\n",
        "\n",
        "#solve system of linear equations\n",
        "#represent equations in matrix form: AX = B\n",
        "coefficients = np.array([[2, -3, 1], [1, -1, 2], [3, 1, -1]])\n",
        "constants = np.array([-1, -3, 9])\n",
        "solution = np.linalg.solve(coefficients, constants)\n",
        "print(\"\\nSolution to linear equations:\\n\", solution)"
      ],
      "metadata": {
        "colab": {
          "base_uri": "https://localhost:8080/"
        },
        "id": "CczaJI08Ej50",
        "outputId": "74c0c190-e0ee-47aa-ff53-5d1d1f4b643a"
      },
      "execution_count": null,
      "outputs": [
        {
          "output_type": "stream",
          "name": "stdout",
          "text": [
            "A * A^-1:\n",
            " [[1.00000000e+00 0.00000000e+00]\n",
            " [1.77635684e-15 1.00000000e+00]]\n",
            "\n",
            "A * B:\n",
            " [[23 13]\n",
            " [51 29]]\n",
            "\n",
            "B * A:\n",
            " [[36 44]\n",
            " [13 16]]\n",
            "AB equals BA: False\n",
            "\n",
            "(AB)^T:\n",
            " [[23 51]\n",
            " [13 29]]\n",
            "\n",
            "B^T * A^T:\n",
            " [[23 51]\n",
            " [13 29]]\n",
            "\n",
            "Solution to linear equations:\n",
            " [ 2.  1. -2.]\n"
          ]
        }
      ]
    }
  ]
}